{
 "cells": [
  {
   "cell_type": "code",
   "execution_count": 3,
   "metadata": {},
   "outputs": [],
   "source": [
    "import urllib.request"
   ]
  },
  {
   "cell_type": "code",
   "execution_count": 4,
   "metadata": {},
   "outputs": [
    {
     "name": "stdout",
     "output_type": "stream",
     "text": [
      "Descargas completadas.\n"
     ]
    }
   ],
   "source": [
    "PREFIX = \"https://raw.githubusercontent.com/DataTalksClub/machine-learning-zoomcamp/master/cohorts/2023/05-deployment/homework\"\n",
    "\n",
    "# Descargar model1.bin\n",
    "url_model1 = f\"{PREFIX}/model1.bin\"\n",
    "urllib.request.urlretrieve(url_model1, \"model1.bin\")\n",
    "\n",
    "# Descargar dv.bin\n",
    "url_dv = f\"{PREFIX}/dv.bin\"\n",
    "urllib.request.urlretrieve(url_dv, \"dv.bin\")\n",
    "\n",
    "print(\"Descargas completadas.\")"
   ]
  }
 ],
 "metadata": {
  "kernelspec": {
   "display_name": "venv",
   "language": "python",
   "name": "python3"
  },
  "language_info": {
   "codemirror_mode": {
    "name": "ipython",
    "version": 3
   },
   "file_extension": ".py",
   "mimetype": "text/x-python",
   "name": "python",
   "nbconvert_exporter": "python",
   "pygments_lexer": "ipython3",
   "version": "3.11.4"
  }
 },
 "nbformat": 4,
 "nbformat_minor": 2
}
