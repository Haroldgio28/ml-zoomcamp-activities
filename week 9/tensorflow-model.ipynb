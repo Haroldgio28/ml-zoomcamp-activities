{
 "cells": [
  {
   "cell_type": "code",
   "execution_count": 1,
   "id": "37a8e270",
   "metadata": {
    "execution": {
     "iopub.execute_input": "2023-11-28T02:57:55.773962Z",
     "iopub.status.busy": "2023-11-28T02:57:55.773521Z",
     "iopub.status.idle": "2023-11-28T02:57:55.786344Z",
     "shell.execute_reply": "2023-11-28T02:57:55.785524Z",
     "shell.execute_reply.started": "2023-11-28T02:57:55.773891Z"
    },
    "tags": []
   },
   "outputs": [
    {
     "data": {
      "application/javascript": "IPython.notebook.set_autosave_interval(0)"
     },
     "metadata": {},
     "output_type": "display_data"
    },
    {
     "name": "stdout",
     "output_type": "stream",
     "text": [
      "Autosave disabled\n"
     ]
    }
   ],
   "source": [
    "%autosave 0"
   ]
  },
  {
   "cell_type": "code",
   "execution_count": 2,
   "id": "848ddafe",
   "metadata": {
    "execution": {
     "iopub.execute_input": "2023-11-28T02:57:58.412381Z",
     "iopub.status.busy": "2023-11-28T02:57:58.411967Z",
     "iopub.status.idle": "2023-11-28T02:57:59.251633Z",
     "shell.execute_reply": "2023-11-28T02:57:59.251026Z",
     "shell.execute_reply.started": "2023-11-28T02:57:58.412353Z"
    },
    "tags": []
   },
   "outputs": [],
   "source": [
    "import pandas as pd\n",
    "import numpy as np\n",
    "import urllib.request\n",
    "\n",
    "import matplotlib.pyplot as plt"
   ]
  },
  {
   "cell_type": "code",
   "execution_count": 3,
   "id": "cc9fbc73",
   "metadata": {
    "execution": {
     "iopub.execute_input": "2023-11-28T02:58:02.217415Z",
     "iopub.status.busy": "2023-11-28T02:58:02.216935Z",
     "iopub.status.idle": "2023-11-28T02:58:02.890204Z",
     "shell.execute_reply": "2023-11-28T02:58:02.889343Z",
     "shell.execute_reply.started": "2023-11-28T02:58:02.217386Z"
    },
    "tags": []
   },
   "outputs": [
    {
     "data": {
      "text/plain": [
       "('clothing-model.h5', <http.client.HTTPMessage at 0x7f7024ac8520>)"
      ]
     },
     "execution_count": 3,
     "metadata": {},
     "output_type": "execute_result"
    }
   ],
   "source": [
    "data = 'https://github.com/DataTalksClub/machine-learning-zoomcamp/releases/download/chapter7-model/xception_v4_large_08_0.894.h5'\n",
    "url = data\n",
    "urllib.request.urlretrieve(url, 'clothing-model.h5')"
   ]
  },
  {
   "cell_type": "code",
   "execution_count": 1,
   "id": "2c240107",
   "metadata": {},
   "outputs": [
    {
     "name": "stderr",
     "output_type": "stream",
     "text": [
      "\"wget\" no se reconoce como un comando interno o externo,\n",
      "programa o archivo por lotes ejecutable.\n"
     ]
    }
   ],
   "source": [
    "# !wget https://github.com/DataTalksClub/machine-learning-zoomcamp/releases/download/chapter7-model/xception_v4_large_08_0.894.h5 -O clothing-model.h5"
   ]
  },
  {
   "cell_type": "code",
   "execution_count": 4,
   "id": "4d77b177",
   "metadata": {
    "execution": {
     "iopub.execute_input": "2023-11-28T02:58:15.696969Z",
     "iopub.status.busy": "2023-11-28T02:58:15.696590Z",
     "iopub.status.idle": "2023-11-28T02:58:16.310391Z",
     "shell.execute_reply": "2023-11-28T02:58:16.309633Z",
     "shell.execute_reply.started": "2023-11-28T02:58:15.696946Z"
    },
    "tags": []
   },
   "outputs": [
    {
     "name": "stdout",
     "output_type": "stream",
     "text": [
      "Python 3.9.13\n"
     ]
    }
   ],
   "source": [
    "!python -V"
   ]
  },
  {
   "cell_type": "code",
   "execution_count": 5,
   "id": "76f422a7",
   "metadata": {
    "execution": {
     "iopub.execute_input": "2023-11-28T02:58:17.972745Z",
     "iopub.status.busy": "2023-11-28T02:58:17.972308Z",
     "iopub.status.idle": "2023-11-28T02:58:19.504163Z",
     "shell.execute_reply": "2023-11-28T02:58:19.503309Z",
     "shell.execute_reply.started": "2023-11-28T02:58:17.972716Z"
    },
    "tags": []
   },
   "outputs": [
    {
     "name": "stderr",
     "output_type": "stream",
     "text": [
      "2023-11-28 02:58:18.125259: I tensorflow/core/util/util.cc:169] oneDNN custom operations are on. You may see slightly different numerical results due to floating-point round-off errors from different computation orders. To turn them off, set the environment variable `TF_ENABLE_ONEDNN_OPTS=0`.\n"
     ]
    },
    {
     "data": {
      "text/plain": [
       "'2.9.1'"
      ]
     },
     "execution_count": 5,
     "metadata": {},
     "output_type": "execute_result"
    }
   ],
   "source": [
    "import numpy as np\n",
    "\n",
    "import tensorflow as tf\n",
    "from tensorflow import keras\n",
    "\n",
    "tf.__version__"
   ]
  },
  {
   "cell_type": "code",
   "execution_count": 6,
   "id": "7cff12e6",
   "metadata": {
    "execution": {
     "iopub.execute_input": "2023-11-28T02:58:33.263736Z",
     "iopub.status.busy": "2023-11-28T02:58:33.262986Z",
     "iopub.status.idle": "2023-11-28T02:58:34.104733Z",
     "shell.execute_reply": "2023-11-28T02:58:34.103907Z",
     "shell.execute_reply.started": "2023-11-28T02:58:33.263702Z"
    },
    "tags": []
   },
   "outputs": [
    {
     "name": "stdout",
     "output_type": "stream",
     "text": [
      "--2023-11-28 02:58:33--  http://bit.ly/mlbookcamp-pants\n",
      "Resolving bit.ly (bit.ly)... 67.199.248.11, 67.199.248.10\n",
      "Connecting to bit.ly (bit.ly)|67.199.248.11|:80... connected.\n",
      "HTTP request sent, awaiting response... 301 Moved Permanently\n",
      "Location: https://raw.githubusercontent.com/alexeygrigorev/clothing-dataset-small/master/test/pants/4aabd82c-82e1-4181-a84d-d0c6e550d26d.jpg [following]\n",
      "--2023-11-28 02:58:33--  https://raw.githubusercontent.com/alexeygrigorev/clothing-dataset-small/master/test/pants/4aabd82c-82e1-4181-a84d-d0c6e550d26d.jpg\n",
      "Resolving raw.githubusercontent.com (raw.githubusercontent.com)... 185.199.111.133, 185.199.110.133, 185.199.108.133, ...\n",
      "Connecting to raw.githubusercontent.com (raw.githubusercontent.com)|185.199.111.133|:443... connected.\n",
      "HTTP request sent, awaiting response... 200 OK\n",
      "Length: 23048 (23K) [image/jpeg]\n",
      "Saving to: ‘pants.jpg’\n",
      "\n",
      "pants.jpg           100%[===================>]  22.51K  --.-KB/s    in 0s      \n",
      "\n",
      "2023-11-28 02:58:33 (104 MB/s) - ‘pants.jpg’ saved [23048/23048]\n",
      "\n"
     ]
    }
   ],
   "source": [
    "!wget http://bit.ly/mlbookcamp-pants -O pants.jpg"
   ]
  },
  {
   "cell_type": "code",
   "execution_count": 7,
   "id": "e81115e9",
   "metadata": {
    "execution": {
     "iopub.execute_input": "2023-11-28T02:58:44.092735Z",
     "iopub.status.busy": "2023-11-28T02:58:44.092274Z",
     "iopub.status.idle": "2023-11-28T02:58:44.098355Z",
     "shell.execute_reply": "2023-11-28T02:58:44.097707Z",
     "shell.execute_reply.started": "2023-11-28T02:58:44.092702Z"
    },
    "tags": []
   },
   "outputs": [],
   "source": [
    "from tensorflow.keras.preprocessing.image import load_img\n",
    "from tensorflow.keras.applications.xception import preprocess_input"
   ]
  },
  {
   "cell_type": "code",
   "execution_count": 9,
   "id": "d911b5ea",
   "metadata": {
    "execution": {
     "iopub.execute_input": "2023-11-28T02:59:14.724624Z",
     "iopub.status.busy": "2023-11-28T02:59:14.724214Z",
     "iopub.status.idle": "2023-11-28T02:59:15.980044Z",
     "shell.execute_reply": "2023-11-28T02:59:15.979356Z",
     "shell.execute_reply.started": "2023-11-28T02:59:14.724595Z"
    },
    "tags": []
   },
   "outputs": [],
   "source": [
    "model = keras.models.load_model('clothing-model.h5')"
   ]
  },
  {
   "cell_type": "code",
   "execution_count": 10,
   "id": "51863ac5",
   "metadata": {
    "execution": {
     "iopub.execute_input": "2023-11-28T02:59:44.338017Z",
     "iopub.status.busy": "2023-11-28T02:59:44.337604Z",
     "iopub.status.idle": "2023-11-28T02:59:44.379273Z",
     "shell.execute_reply": "2023-11-28T02:59:44.378607Z",
     "shell.execute_reply.started": "2023-11-28T02:59:44.337990Z"
    },
    "tags": []
   },
   "outputs": [],
   "source": [
    "img = load_img('pants.jpg', target_size=(299, 299))\n",
    "\n",
    "x = np.array(img)\n",
    "X = np.array([x])\n",
    "\n",
    "X = preprocess_input(X)"
   ]
  },
  {
   "cell_type": "code",
   "execution_count": 11,
   "id": "9c759646",
   "metadata": {
    "execution": {
     "iopub.execute_input": "2023-11-28T02:59:48.276945Z",
     "iopub.status.busy": "2023-11-28T02:59:48.276542Z",
     "iopub.status.idle": "2023-11-28T02:59:50.909378Z",
     "shell.execute_reply": "2023-11-28T02:59:50.908716Z",
     "shell.execute_reply.started": "2023-11-28T02:59:48.276919Z"
    },
    "tags": []
   },
   "outputs": [
    {
     "name": "stderr",
     "output_type": "stream",
     "text": [
      "2023-11-28 02:59:49.573483: I tensorflow/stream_executor/cuda/cuda_dnn.cc:384] Loaded cuDNN version 8100\n",
      "2023-11-28 02:59:50.223726: I tensorflow/core/platform/default/subprocess.cc:304] Start cannot spawn child process: No such file or directory\n",
      "2023-11-28 02:59:50.224256: I tensorflow/core/platform/default/subprocess.cc:304] Start cannot spawn child process: No such file or directory\n",
      "2023-11-28 02:59:50.224298: W tensorflow/stream_executor/gpu/asm_compiler.cc:80] Couldn't get ptxas version string: INTERNAL: Couldn't invoke ptxas --version\n",
      "2023-11-28 02:59:50.224937: I tensorflow/core/platform/default/subprocess.cc:304] Start cannot spawn child process: No such file or directory\n",
      "2023-11-28 02:59:50.225035: W tensorflow/stream_executor/gpu/redzone_allocator.cc:314] INTERNAL: Failed to launch ptxas\n",
      "Relying on driver to perform ptx compilation. \n",
      "Modify $PATH to customize ptxas location.\n",
      "This message will be only logged once.\n"
     ]
    },
    {
     "name": "stdout",
     "output_type": "stream",
     "text": [
      "1/1 [==============================] - 3s 3s/step\n"
     ]
    }
   ],
   "source": [
    "preds = model.predict(X)"
   ]
  },
  {
   "cell_type": "code",
   "execution_count": 12,
   "id": "ae8e063e",
   "metadata": {
    "execution": {
     "iopub.execute_input": "2023-11-28T02:59:53.858225Z",
     "iopub.status.busy": "2023-11-28T02:59:53.857840Z",
     "iopub.status.idle": "2023-11-28T02:59:53.863883Z",
     "shell.execute_reply": "2023-11-28T02:59:53.863093Z",
     "shell.execute_reply.started": "2023-11-28T02:59:53.858197Z"
    },
    "tags": []
   },
   "outputs": [
    {
     "data": {
      "text/plain": [
       "array([[-1.8682917, -4.761245 , -2.3169842, -1.06257  ,  9.887158 ,\n",
       "        -2.812433 , -3.666283 ,  3.2003632, -2.6023386, -4.835047 ]],\n",
       "      dtype=float32)"
      ]
     },
     "execution_count": 12,
     "metadata": {},
     "output_type": "execute_result"
    }
   ],
   "source": [
    "preds"
   ]
  },
  {
   "cell_type": "code",
   "execution_count": 13,
   "id": "09565d86",
   "metadata": {
    "execution": {
     "iopub.execute_input": "2023-11-28T03:00:12.847834Z",
     "iopub.status.busy": "2023-11-28T03:00:12.847443Z",
     "iopub.status.idle": "2023-11-28T03:00:12.851786Z",
     "shell.execute_reply": "2023-11-28T03:00:12.851011Z",
     "shell.execute_reply.started": "2023-11-28T03:00:12.847806Z"
    }
   },
   "outputs": [],
   "source": [
    "classes = [\n",
    "    'dress',\n",
    "    'hat',\n",
    "    'longsleeve',\n",
    "    'outwear',\n",
    "    'pants',\n",
    "    'shirt',\n",
    "    'shoes',\n",
    "    'shorts',\n",
    "    'skirt',\n",
    "    't-shirt'\n",
    "]"
   ]
  },
  {
   "cell_type": "code",
   "execution_count": 14,
   "id": "17c956c3",
   "metadata": {
    "execution": {
     "iopub.execute_input": "2023-11-28T03:00:12.853606Z",
     "iopub.status.busy": "2023-11-28T03:00:12.853188Z",
     "iopub.status.idle": "2023-11-28T03:00:12.858521Z",
     "shell.execute_reply": "2023-11-28T03:00:12.857742Z",
     "shell.execute_reply.started": "2023-11-28T03:00:12.853583Z"
    }
   },
   "outputs": [
    {
     "data": {
      "text/plain": [
       "{'dress': -1.8682917,\n",
       " 'hat': -4.761245,\n",
       " 'longsleeve': -2.3169842,\n",
       " 'outwear': -1.06257,\n",
       " 'pants': 9.887158,\n",
       " 'shirt': -2.812433,\n",
       " 'shoes': -3.666283,\n",
       " 'shorts': 3.2003632,\n",
       " 'skirt': -2.6023386,\n",
       " 't-shirt': -4.835047}"
      ]
     },
     "execution_count": 14,
     "metadata": {},
     "output_type": "execute_result"
    }
   ],
   "source": [
    "dict(zip(classes, preds[0]))"
   ]
  },
  {
   "cell_type": "markdown",
   "id": "50149c7f",
   "metadata": {},
   "source": [
    "## Convert Keras to TF-Lite"
   ]
  },
  {
   "cell_type": "code",
   "execution_count": 15,
   "id": "898dc5cf",
   "metadata": {
    "execution": {
     "iopub.execute_input": "2023-11-28T03:00:12.859620Z",
     "iopub.status.busy": "2023-11-28T03:00:12.859355Z",
     "iopub.status.idle": "2023-11-28T03:00:39.328086Z",
     "shell.execute_reply": "2023-11-28T03:00:39.327433Z",
     "shell.execute_reply.started": "2023-11-28T03:00:12.859600Z"
    },
    "scrolled": true
   },
   "outputs": [
    {
     "name": "stderr",
     "output_type": "stream",
     "text": [
      "WARNING:absl:Found untraced functions such as _jit_compiled_convolution_op, _jit_compiled_convolution_op, _jit_compiled_convolution_op, _jit_compiled_convolution_op, _jit_compiled_convolution_op while saving (showing 5 of 40). These functions will not be directly callable after loading.\n"
     ]
    },
    {
     "name": "stdout",
     "output_type": "stream",
     "text": [
      "INFO:tensorflow:Assets written to: /tmp/tmpo1823gm3/assets\n"
     ]
    },
    {
     "name": "stderr",
     "output_type": "stream",
     "text": [
      "INFO:tensorflow:Assets written to: /tmp/tmpo1823gm3/assets\n",
      "2023-11-28 03:00:35.944722: W tensorflow/compiler/mlir/lite/python/tf_tfl_flatbuffer_helpers.cc:362] Ignored output_format.\n",
      "2023-11-28 03:00:35.944761: W tensorflow/compiler/mlir/lite/python/tf_tfl_flatbuffer_helpers.cc:365] Ignored drop_control_dependency.\n",
      "2023-11-28 03:00:35.945601: I tensorflow/cc/saved_model/reader.cc:43] Reading SavedModel from: /tmp/tmpo1823gm3\n",
      "2023-11-28 03:00:35.973250: I tensorflow/cc/saved_model/reader.cc:81] Reading meta graph with tags { serve }\n",
      "2023-11-28 03:00:35.973285: I tensorflow/cc/saved_model/reader.cc:122] Reading SavedModel debug info (if present) from: /tmp/tmpo1823gm3\n",
      "2023-11-28 03:00:36.062652: I tensorflow/compiler/mlir/mlir_graph_optimization_pass.cc:354] MLIR V1 optimization pass is not enabled\n",
      "2023-11-28 03:00:36.093334: I tensorflow/cc/saved_model/loader.cc:228] Restoring SavedModel bundle.\n",
      "2023-11-28 03:00:36.631331: I tensorflow/cc/saved_model/loader.cc:212] Running initialization op on SavedModel bundle at path: /tmp/tmpo1823gm3\n",
      "2023-11-28 03:00:36.847605: I tensorflow/cc/saved_model/loader.cc:301] SavedModel load for tags { serve }; Status: success: OK. Took 902006 microseconds.\n",
      "2023-11-28 03:00:37.246587: I tensorflow/compiler/mlir/tensorflow/utils/dump_mlir_util.cc:263] disabling MLIR crash reproducer, set env var `MLIR_CRASH_REPRODUCER_DIRECTORY` to enable.\n"
     ]
    }
   ],
   "source": [
    "converter = tf.lite.TFLiteConverter.from_keras_model(model)\n",
    "\n",
    "tflite_model = converter.convert()\n",
    "\n",
    "with open('clothing-model.tflite', 'wb') as f_out:\n",
    "    f_out.write(tflite_model)"
   ]
  },
  {
   "cell_type": "code",
   "execution_count": 16,
   "id": "6d47a365",
   "metadata": {
    "execution": {
     "iopub.execute_input": "2023-11-28T03:00:39.329843Z",
     "iopub.status.busy": "2023-11-28T03:00:39.329537Z",
     "iopub.status.idle": "2023-11-28T03:00:40.012485Z",
     "shell.execute_reply": "2023-11-28T03:00:40.011654Z",
     "shell.execute_reply.started": "2023-11-28T03:00:39.329820Z"
    }
   },
   "outputs": [
    {
     "name": "stdout",
     "output_type": "stream",
     "text": [
      "total 163M\n",
      "-rw-r--r-- 1 jovyan jovyan  83M Nov 28 02:58 clothing-model.h5\n",
      "-rw-r--r-- 1 jovyan jovyan  81M Nov 28 03:00 clothing-model.tflite\n",
      "-rw-r--r-- 1 jovyan jovyan  23K Nov 28 02:58 pants.jpg\n",
      "-rw-r--r-- 1 jovyan jovyan  22K Nov 28 02:59 tensorflow-model.ipynb\n",
      "-rw-r--r-- 1 jovyan jovyan 5.8K Nov 28 02:58 Untitled.ipynb\n"
     ]
    }
   ],
   "source": [
    "!ls -lh"
   ]
  },
  {
   "cell_type": "code",
   "execution_count": 17,
   "id": "43051d0f",
   "metadata": {
    "execution": {
     "iopub.execute_input": "2023-11-28T03:00:40.014031Z",
     "iopub.status.busy": "2023-11-28T03:00:40.013693Z",
     "iopub.status.idle": "2023-11-28T03:00:40.017830Z",
     "shell.execute_reply": "2023-11-28T03:00:40.017039Z",
     "shell.execute_reply.started": "2023-11-28T03:00:40.014005Z"
    }
   },
   "outputs": [],
   "source": [
    "import tensorflow.lite as tflite"
   ]
  },
  {
   "cell_type": "code",
   "execution_count": 18,
   "id": "536f5426",
   "metadata": {
    "execution": {
     "iopub.execute_input": "2023-11-28T03:00:40.019289Z",
     "iopub.status.busy": "2023-11-28T03:00:40.018873Z",
     "iopub.status.idle": "2023-11-28T03:00:40.113471Z",
     "shell.execute_reply": "2023-11-28T03:00:40.112654Z",
     "shell.execute_reply.started": "2023-11-28T03:00:40.019267Z"
    }
   },
   "outputs": [
    {
     "name": "stderr",
     "output_type": "stream",
     "text": [
      "INFO: Created TensorFlow Lite XNNPACK delegate for CPU.\n"
     ]
    }
   ],
   "source": [
    "interpreter = tflite.Interpreter(model_path='clothing-model.tflite')\n",
    "interpreter.allocate_tensors()\n",
    "\n",
    "input_index = interpreter.get_input_details()[0]['index']\n",
    "output_index = interpreter.get_output_details()[0]['index']"
   ]
  },
  {
   "cell_type": "code",
   "execution_count": 19,
   "id": "2787dd3b",
   "metadata": {
    "execution": {
     "iopub.execute_input": "2023-11-28T03:00:40.114901Z",
     "iopub.status.busy": "2023-11-28T03:00:40.114604Z",
     "iopub.status.idle": "2023-11-28T03:00:40.371430Z",
     "shell.execute_reply": "2023-11-28T03:00:40.370804Z",
     "shell.execute_reply.started": "2023-11-28T03:00:40.114879Z"
    }
   },
   "outputs": [],
   "source": [
    "interpreter.set_tensor(input_index, X)\n",
    "interpreter.invoke()\n",
    "preds = interpreter.get_tensor(output_index)"
   ]
  },
  {
   "cell_type": "code",
   "execution_count": 20,
   "id": "a6403dbc",
   "metadata": {
    "execution": {
     "iopub.execute_input": "2023-11-28T03:00:40.373015Z",
     "iopub.status.busy": "2023-11-28T03:00:40.372545Z",
     "iopub.status.idle": "2023-11-28T03:00:40.379382Z",
     "shell.execute_reply": "2023-11-28T03:00:40.378645Z",
     "shell.execute_reply.started": "2023-11-28T03:00:40.372981Z"
    }
   },
   "outputs": [
    {
     "data": {
      "text/plain": [
       "{'dress': -1.8682916,\n",
       " 'hat': -4.7612457,\n",
       " 'longsleeve': -2.316979,\n",
       " 'outwear': -1.0625672,\n",
       " 'pants': 9.8871565,\n",
       " 'shirt': -2.8124275,\n",
       " 'shoes': -3.666287,\n",
       " 'shorts': 3.2003636,\n",
       " 'skirt': -2.6023414,\n",
       " 't-shirt': -4.8350444}"
      ]
     },
     "execution_count": 20,
     "metadata": {},
     "output_type": "execute_result"
    }
   ],
   "source": [
    "classes = [\n",
    "    'dress',\n",
    "    'hat',\n",
    "    'longsleeve',\n",
    "    'outwear',\n",
    "    'pants',\n",
    "    'shirt',\n",
    "    'shoes',\n",
    "    'shorts',\n",
    "    'skirt',\n",
    "    't-shirt'\n",
    "]\n",
    "\n",
    "dict(zip(classes, preds[0]))"
   ]
  },
  {
   "cell_type": "markdown",
   "id": "a50e64ac",
   "metadata": {},
   "source": [
    "## Removing TF dependency"
   ]
  },
  {
   "cell_type": "code",
   "execution_count": 21,
   "id": "49d4edbc",
   "metadata": {
    "execution": {
     "iopub.execute_input": "2023-11-28T03:00:40.383129Z",
     "iopub.status.busy": "2023-11-28T03:00:40.382814Z",
     "iopub.status.idle": "2023-11-28T03:00:40.386487Z",
     "shell.execute_reply": "2023-11-28T03:00:40.385741Z",
     "shell.execute_reply.started": "2023-11-28T03:00:40.383107Z"
    }
   },
   "outputs": [],
   "source": [
    "from PIL import Image"
   ]
  },
  {
   "cell_type": "code",
   "execution_count": 22,
   "id": "65e25a72",
   "metadata": {
    "execution": {
     "iopub.execute_input": "2023-11-28T03:00:40.387642Z",
     "iopub.status.busy": "2023-11-28T03:00:40.387369Z",
     "iopub.status.idle": "2023-11-28T03:00:40.395438Z",
     "shell.execute_reply": "2023-11-28T03:00:40.394748Z",
     "shell.execute_reply.started": "2023-11-28T03:00:40.387623Z"
    }
   },
   "outputs": [
    {
     "name": "stderr",
     "output_type": "stream",
     "text": [
      "/tmp/ipykernel_513/2391656872.py:2: DeprecationWarning: NEAREST is deprecated and will be removed in Pillow 10 (2023-07-01). Use Resampling.NEAREST or Dither.NONE instead.\n",
      "  img = img.resize((299, 299), Image.NEAREST)\n"
     ]
    }
   ],
   "source": [
    "with Image.open('pants.jpg') as img:\n",
    "    img = img.resize((299, 299), Image.NEAREST)"
   ]
  },
  {
   "cell_type": "code",
   "execution_count": 23,
   "id": "f06c8daa",
   "metadata": {
    "execution": {
     "iopub.execute_input": "2023-11-28T03:00:40.396563Z",
     "iopub.status.busy": "2023-11-28T03:00:40.396184Z",
     "iopub.status.idle": "2023-11-28T03:00:40.399692Z",
     "shell.execute_reply": "2023-11-28T03:00:40.399107Z",
     "shell.execute_reply.started": "2023-11-28T03:00:40.396542Z"
    }
   },
   "outputs": [],
   "source": [
    "def preprocess_input(x):\n",
    "    x /= 127.5\n",
    "    x -= 1.\n",
    "    return x"
   ]
  },
  {
   "cell_type": "code",
   "execution_count": 24,
   "id": "81bf48c8",
   "metadata": {
    "execution": {
     "iopub.execute_input": "2023-11-28T03:00:40.400762Z",
     "iopub.status.busy": "2023-11-28T03:00:40.400515Z",
     "iopub.status.idle": "2023-11-28T03:00:40.405544Z",
     "shell.execute_reply": "2023-11-28T03:00:40.405014Z",
     "shell.execute_reply.started": "2023-11-28T03:00:40.400744Z"
    }
   },
   "outputs": [],
   "source": [
    "x = np.array(img, dtype='float32')\n",
    "X = np.array([x])\n",
    "\n",
    "X = preprocess_input(X)"
   ]
  },
  {
   "cell_type": "code",
   "execution_count": 25,
   "id": "656b5981",
   "metadata": {
    "execution": {
     "iopub.execute_input": "2023-11-28T03:00:40.408222Z",
     "iopub.status.busy": "2023-11-28T03:00:40.406274Z",
     "iopub.status.idle": "2023-11-28T03:00:40.640397Z",
     "shell.execute_reply": "2023-11-28T03:00:40.639741Z",
     "shell.execute_reply.started": "2023-11-28T03:00:40.408199Z"
    }
   },
   "outputs": [],
   "source": [
    "interpreter.set_tensor(input_index, X)\n",
    "interpreter.invoke()\n",
    "preds = interpreter.get_tensor(output_index)"
   ]
  },
  {
   "cell_type": "code",
   "execution_count": 26,
   "id": "fd9bb26c",
   "metadata": {
    "execution": {
     "iopub.execute_input": "2023-11-28T03:00:40.643237Z",
     "iopub.status.busy": "2023-11-28T03:00:40.642789Z",
     "iopub.status.idle": "2023-11-28T03:00:40.648691Z",
     "shell.execute_reply": "2023-11-28T03:00:40.648078Z",
     "shell.execute_reply.started": "2023-11-28T03:00:40.643201Z"
    }
   },
   "outputs": [
    {
     "data": {
      "text/plain": [
       "{'dress': -1.8682916,\n",
       " 'hat': -4.7612457,\n",
       " 'longsleeve': -2.316979,\n",
       " 'outwear': -1.0625672,\n",
       " 'pants': 9.8871565,\n",
       " 'shirt': -2.8124275,\n",
       " 'shoes': -3.666287,\n",
       " 'shorts': 3.2003636,\n",
       " 'skirt': -2.6023414,\n",
       " 't-shirt': -4.8350444}"
      ]
     },
     "execution_count": 26,
     "metadata": {},
     "output_type": "execute_result"
    }
   ],
   "source": [
    "classes = [\n",
    "    'dress',\n",
    "    'hat',\n",
    "    'longsleeve',\n",
    "    'outwear',\n",
    "    'pants',\n",
    "    'shirt',\n",
    "    'shoes',\n",
    "    'shorts',\n",
    "    'skirt',\n",
    "    't-shirt'\n",
    "]\n",
    "\n",
    "dict(zip(classes, preds[0]))"
   ]
  },
  {
   "cell_type": "markdown",
   "id": "9cfb17f7",
   "metadata": {},
   "source": [
    "## Simpler way of doing it"
   ]
  },
  {
   "cell_type": "code",
   "execution_count": 1,
   "id": "4225e13b",
   "metadata": {
    "execution": {
     "iopub.execute_input": "2023-11-28T03:37:20.894536Z",
     "iopub.status.busy": "2023-11-28T03:37:20.894045Z",
     "iopub.status.idle": "2023-11-28T03:37:20.899240Z",
     "shell.execute_reply": "2023-11-28T03:37:20.898492Z",
     "shell.execute_reply.started": "2023-11-28T03:37:20.894440Z"
    }
   },
   "outputs": [],
   "source": [
    "# !pip install keras-image-helper"
   ]
  },
  {
   "cell_type": "code",
   "execution_count": 2,
   "id": "452e3b49-d0c5-4c0a-9a4a-cc09feefa4bf",
   "metadata": {
    "execution": {
     "iopub.execute_input": "2023-11-28T03:37:20.901931Z",
     "iopub.status.busy": "2023-11-28T03:37:20.901059Z",
     "iopub.status.idle": "2023-11-28T03:37:22.850436Z",
     "shell.execute_reply": "2023-11-28T03:37:22.849704Z",
     "shell.execute_reply.started": "2023-11-28T03:37:20.901896Z"
    },
    "tags": []
   },
   "outputs": [
    {
     "name": "stderr",
     "output_type": "stream",
     "text": [
      "2023-11-28 03:37:21.041978: I tensorflow/core/util/util.cc:169] oneDNN custom operations are on. You may see slightly different numerical results due to floating-point round-off errors from different computation orders. To turn them off, set the environment variable `TF_ENABLE_ONEDNN_OPTS=0`.\n"
     ]
    }
   ],
   "source": [
    "from tensorflow.keras.applications.xception import preprocess_input"
   ]
  },
  {
   "cell_type": "code",
   "execution_count": 3,
   "id": "743b5fe1",
   "metadata": {
    "execution": {
     "iopub.execute_input": "2023-11-28T03:37:22.851883Z",
     "iopub.status.busy": "2023-11-28T03:37:22.851361Z",
     "iopub.status.idle": "2023-11-28T03:37:22.854981Z",
     "shell.execute_reply": "2023-11-28T03:37:22.854382Z",
     "shell.execute_reply.started": "2023-11-28T03:37:22.851859Z"
    },
    "tags": []
   },
   "outputs": [],
   "source": [
    "# !pip install --extra-index-url https://google-coral.github.io/py-repo/ tflite_runtime"
   ]
  },
  {
   "cell_type": "code",
   "execution_count": 14,
   "id": "42520edb-0bc2-4f13-80b7-06bee40299aa",
   "metadata": {
    "execution": {
     "iopub.execute_input": "2023-11-28T03:39:42.089624Z",
     "iopub.status.busy": "2023-11-28T03:39:42.088609Z",
     "iopub.status.idle": "2023-11-28T03:39:42.093028Z",
     "shell.execute_reply": "2023-11-28T03:39:42.092346Z",
     "shell.execute_reply.started": "2023-11-28T03:39:42.089581Z"
    },
    "tags": []
   },
   "outputs": [],
   "source": [
    "# import tflite_runtime.interpreter as tflite"
   ]
  },
  {
   "cell_type": "code",
   "execution_count": 8,
   "id": "b9780017",
   "metadata": {
    "execution": {
     "iopub.execute_input": "2023-11-28T03:39:16.686489Z",
     "iopub.status.busy": "2023-11-28T03:39:16.686103Z",
     "iopub.status.idle": "2023-11-28T03:39:16.689772Z",
     "shell.execute_reply": "2023-11-28T03:39:16.689107Z",
     "shell.execute_reply.started": "2023-11-28T03:39:16.686463Z"
    },
    "tags": []
   },
   "outputs": [],
   "source": [
    "import tensorflow.lite as tflite\n",
    "from keras_image_helper import create_preprocessor\n"
   ]
  },
  {
   "cell_type": "code",
   "execution_count": null,
   "id": "8170e43e-aebc-4106-a53e-b7eb7b8a0a07",
   "metadata": {
    "execution": {
     "iopub.status.busy": "2023-11-28T03:37:23.486037Z",
     "iopub.status.idle": "2023-11-28T03:37:23.486316Z",
     "shell.execute_reply": "2023-11-28T03:37:23.486199Z",
     "shell.execute_reply.started": "2023-11-28T03:37:23.486185Z"
    },
    "tags": []
   },
   "outputs": [],
   "source": [
    "!pip install tflite-runtime"
   ]
  },
  {
   "cell_type": "code",
   "execution_count": 9,
   "id": "f5903956",
   "metadata": {
    "execution": {
     "iopub.execute_input": "2023-11-28T03:39:20.366755Z",
     "iopub.status.busy": "2023-11-28T03:39:20.366360Z",
     "iopub.status.idle": "2023-11-28T03:39:20.468148Z",
     "shell.execute_reply": "2023-11-28T03:39:20.467221Z",
     "shell.execute_reply.started": "2023-11-28T03:39:20.366731Z"
    },
    "tags": []
   },
   "outputs": [
    {
     "name": "stderr",
     "output_type": "stream",
     "text": [
      "INFO: Created TensorFlow Lite XNNPACK delegate for CPU.\n"
     ]
    }
   ],
   "source": [
    "interpreter = tflite.Interpreter(model_path='clothing-model.tflite')\n",
    "interpreter.allocate_tensors()\n",
    "\n",
    "input_index = interpreter.get_input_details()[0]['index']\n",
    "output_index = interpreter.get_output_details()[0]['index']"
   ]
  },
  {
   "cell_type": "code",
   "execution_count": 10,
   "id": "8146a9cb",
   "metadata": {
    "execution": {
     "iopub.execute_input": "2023-11-28T03:39:22.917003Z",
     "iopub.status.busy": "2023-11-28T03:39:22.916611Z",
     "iopub.status.idle": "2023-11-28T03:39:22.920438Z",
     "shell.execute_reply": "2023-11-28T03:39:22.919767Z",
     "shell.execute_reply.started": "2023-11-28T03:39:22.916977Z"
    },
    "tags": []
   },
   "outputs": [],
   "source": [
    "preprocessor = create_preprocessor('xception', target_size=(299, 299))"
   ]
  },
  {
   "cell_type": "code",
   "execution_count": 11,
   "id": "81622bd1",
   "metadata": {
    "execution": {
     "iopub.execute_input": "2023-11-28T03:39:24.778731Z",
     "iopub.status.busy": "2023-11-28T03:39:24.778335Z",
     "iopub.status.idle": "2023-11-28T03:39:24.873191Z",
     "shell.execute_reply": "2023-11-28T03:39:24.872539Z",
     "shell.execute_reply.started": "2023-11-28T03:39:24.778704Z"
    },
    "tags": []
   },
   "outputs": [],
   "source": [
    "url = 'http://bit.ly/mlbookcamp-pants'\n",
    "X = preprocessor.from_url(url)"
   ]
  },
  {
   "cell_type": "code",
   "execution_count": 12,
   "id": "811511aa",
   "metadata": {
    "execution": {
     "iopub.execute_input": "2023-11-28T03:39:26.513703Z",
     "iopub.status.busy": "2023-11-28T03:39:26.513324Z",
     "iopub.status.idle": "2023-11-28T03:39:26.792834Z",
     "shell.execute_reply": "2023-11-28T03:39:26.792108Z",
     "shell.execute_reply.started": "2023-11-28T03:39:26.513675Z"
    },
    "tags": []
   },
   "outputs": [],
   "source": [
    "interpreter.set_tensor(input_index, X)\n",
    "interpreter.invoke()\n",
    "preds = interpreter.get_tensor(output_index)"
   ]
  },
  {
   "cell_type": "code",
   "execution_count": 13,
   "id": "17c925c5",
   "metadata": {
    "execution": {
     "iopub.execute_input": "2023-11-28T03:39:28.798762Z",
     "iopub.status.busy": "2023-11-28T03:39:28.798374Z",
     "iopub.status.idle": "2023-11-28T03:39:28.808835Z",
     "shell.execute_reply": "2023-11-28T03:39:28.808068Z",
     "shell.execute_reply.started": "2023-11-28T03:39:28.798733Z"
    },
    "tags": []
   },
   "outputs": [
    {
     "data": {
      "text/plain": [
       "{'dress': -1.8682916,\n",
       " 'hat': -4.7612457,\n",
       " 'longsleeve': -2.316979,\n",
       " 'outwear': -1.0625672,\n",
       " 'pants': 9.8871565,\n",
       " 'shirt': -2.8124275,\n",
       " 'shoes': -3.666287,\n",
       " 'shorts': 3.2003636,\n",
       " 'skirt': -2.6023414,\n",
       " 't-shirt': -4.8350444}"
      ]
     },
     "execution_count": 13,
     "metadata": {},
     "output_type": "execute_result"
    }
   ],
   "source": [
    "classes = [\n",
    "    'dress',\n",
    "    'hat',\n",
    "    'longsleeve',\n",
    "    'outwear',\n",
    "    'pants',\n",
    "    'shirt',\n",
    "    'shoes',\n",
    "    'shorts',\n",
    "    'skirt',\n",
    "    't-shirt'\n",
    "]\n",
    "\n",
    "dict(zip(classes, preds[0]))"
   ]
  }
 ],
 "metadata": {
  "kernelspec": {
   "display_name": "saturn (Python 3)",
   "language": "python",
   "name": "python3"
  },
  "language_info": {
   "codemirror_mode": {
    "name": "ipython",
    "version": 3
   },
   "file_extension": ".py",
   "mimetype": "text/x-python",
   "name": "python",
   "nbconvert_exporter": "python",
   "pygments_lexer": "ipython3",
   "version": "3.10.9"
  }
 },
 "nbformat": 4,
 "nbformat_minor": 5
}
